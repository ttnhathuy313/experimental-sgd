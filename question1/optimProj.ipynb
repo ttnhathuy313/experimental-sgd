{
 "cells": [
  {
   "cell_type": "code",
   "execution_count": 1,
   "id": "initial_id",
   "metadata": {
    "collapsed": true,
    "ExecuteTime": {
     "end_time": "2023-12-08T12:30:37.929433600Z",
     "start_time": "2023-12-08T12:30:37.835520900Z"
    }
   },
   "outputs": [],
   "source": [
    "import numpy as np\n",
    "import numpy.linalg as la\n",
    "import time\n",
    "from copy import deepcopy\n",
    "from f_optimize import *"
   ]
  },
  {
   "cell_type": "code",
   "execution_count": 7,
   "outputs": [],
   "source": [
    "# def calculateHessian(x, calculateGrad, diff = 1e-5):\n",
    "#     \n",
    "#     hessian = np.zeros((x.shape[0], x.shape[0]))\n",
    "#     \n",
    "#     it = np.nditer(x, flags = [\"multi_index\"], op_flags = [\"readwrite\"])\n",
    "#     \n",
    "#     while not it.finished:\n",
    "#         ix = it.multi_index\n",
    "#         \n",
    "#         oldVal = x[ix]\n",
    "#         x[ix] = oldVal + diff\n",
    "#         pos = calculateGrad(x).copy()\n",
    "#         x[ix] = oldVal - diff\n",
    "#         neg = calculateGrad(x).copy()\n",
    "#         x[ix] = oldVal\n",
    "#         hessian[ix] = (pos - neg) / (2 * diff)\n",
    "#         it.iternext()\n",
    "#     \n",
    "#     return hessian"
   ],
   "metadata": {
    "collapsed": false,
    "ExecuteTime": {
     "end_time": "2023-12-08T12:30:38.038645800Z",
     "start_time": "2023-12-08T12:30:38.007399Z"
    }
   },
   "id": "4039bb2a5765c55a"
  },
  {
   "cell_type": "code",
   "execution_count": 8,
   "outputs": [],
   "source": [
    "def objectiveFunc(x):\n",
    "    \"\"\"\n",
    "\n",
    "    :param x: shape (D)\n",
    "    :return: objective value shape (1)\n",
    "    \"\"\"\n",
    "    \n",
    "    # v = #PUT YOUR FUNCTION HERE\n",
    "    # return np.array([v])\n",
    "    pass"
   ],
   "metadata": {
    "collapsed": false,
    "ExecuteTime": {
     "end_time": "2023-12-08T12:30:38.038645800Z",
     "start_time": "2023-12-08T12:30:38.023022400Z"
    }
   },
   "id": "dbb3a30a310f5cff"
  },
  {
   "cell_type": "code",
   "execution_count": 9,
   "outputs": [],
   "source": [
    "def customFunc(x):\n",
    "    return np.array([(x[0] ** 4) - 1])\n",
    "    # return np.array([np.log(np.exp(x[0]) + np.exp(- x[0]))])\n",
    "    # return np.array([- np.log(x[0]) + x[0]])\n",
    "\n",
    "def customFuncGrad(x):\n",
    "    return calculateGrad(x, customFunc)"
   ],
   "metadata": {
    "collapsed": false,
    "ExecuteTime": {
     "end_time": "2023-12-08T12:30:38.038645800Z",
     "start_time": "2023-12-08T12:30:38.023022400Z"
    }
   },
   "id": "93bde1062d8f3a3f"
  },
  {
   "cell_type": "code",
   "execution_count": 10,
   "outputs": [],
   "source": [
    "def paraboloid(x):\n",
    "    return ((10 * (x[0] ** 2)) + (x[1] ** 2)) / 2\n",
    "\n",
    "def paraboloidGrad(x):\n",
    "    return np.array([10 * x[0], x[1]])"
   ],
   "metadata": {
    "collapsed": false,
    "ExecuteTime": {
     "end_time": "2023-12-08T12:30:38.038645800Z",
     "start_time": "2023-12-08T12:30:38.023022400Z"
    }
   },
   "id": "3b3df61621da36e5"
  },
  {
   "cell_type": "code",
   "execution_count": 11,
   "outputs": [],
   "source": [
    "def parabolicCylinder(x):\n",
    "    v = x[1] ** 2\n",
    "    return np.array([v])\n",
    "\n",
    "def parabolicCylinderGrad(x):\n",
    "    return np.array([0, 2 * x[1]])"
   ],
   "metadata": {
    "collapsed": false,
    "ExecuteTime": {
     "end_time": "2023-12-08T12:30:38.069925500Z",
     "start_time": "2023-12-08T12:30:38.069925500Z"
    }
   },
   "id": "3fdb1e6d10fc7a0d"
  },
  {
   "cell_type": "code",
   "execution_count": 12,
   "outputs": [],
   "source": [
    "def rosenbrock2d(x):\n",
    "    v = 100 * (x[1] - x[0]**2)**2 + (1 - x[0])**2\n",
    "    return np.array([v])\n",
    "\n",
    "def g_rosenbrock2d(x):\n",
    "    v = np.zeros_like(x)\n",
    "    v[0] = 400 * x[0]**3 - 400 * x[0] * x[1] + 2 * x[0] - 2\n",
    "    v[1] = 200 * (x[1] - x[0]**2)\n",
    "    return v\n",
    "\n",
    "def h_rosenbrock2d(x):\n",
    "    h = np.zeros((x.shape[0], x.shape[0]))\n",
    "    h[0][0] = (-400 * x[1]) + (1200 * (x[0] ** 2)) + 2\n",
    "    h[0][1] = -400 * x[0]\n",
    "    h[1][0] = deepcopy(h[0][1])\n",
    "    h[1][1] = 200\n",
    "    return h"
   ],
   "metadata": {
    "collapsed": false,
    "ExecuteTime": {
     "end_time": "2023-12-08T12:30:38.069925500Z",
     "start_time": "2023-12-08T12:30:38.069925500Z"
    }
   },
   "id": "28ab017f8eb12c2b"
  },
  {
   "cell_type": "code",
   "execution_count": 13,
   "outputs": [
    {
     "name": "stderr",
     "output_type": "stream",
     "text": [
      "/tmp/ipykernel_125986/2543695520.py:31: DeprecationWarning: Conversion of an array with ndim > 0 to a scalar is deprecated, and will error in future. Ensure you extract a single element from your array before performing this operation. (Deprecated NumPy 1.25.)\n",
      "  grad[ix] = (pos - neg) / (2 * diff)\n"
     ]
    },
    {
     "data": {
      "text/plain": "array([ 8.62383587e-09, -4.77626827e-10])"
     },
     "execution_count": 13,
     "metadata": {},
     "output_type": "execute_result"
    }
   ],
   "source": [
    "testX = np.random.rand(2)\n",
    "calculateGrad(testX, rosenbrock2d) - g_rosenbrock2d(testX)"
   ],
   "metadata": {
    "collapsed": false,
    "ExecuteTime": {
     "end_time": "2023-12-08T12:30:38.069925500Z",
     "start_time": "2023-12-08T12:30:38.069925500Z"
    }
   },
   "id": "da08c20a18aecc1"
  },
  {
   "cell_type": "code",
   "execution_count": 14,
   "outputs": [
    {
     "data": {
      "text/plain": "array([[ 3.95707147e-08, -2.52384780e-10],\n       [ 4.58157956e-10, -1.17668719e-09]])"
     },
     "execution_count": 14,
     "metadata": {},
     "output_type": "execute_result"
    }
   ],
   "source": [
    "testX = np.random.rand(2)\n",
    "calculateGrad(testX, g_rosenbrock2d) - h_rosenbrock2d(testX)"
   ],
   "metadata": {
    "collapsed": false,
    "ExecuteTime": {
     "end_time": "2023-12-08T12:30:38.157469300Z",
     "start_time": "2023-12-08T12:30:38.116773200Z"
    }
   },
   "id": "17a9d670bb8eb07c"
  },
  {
   "cell_type": "code",
   "execution_count": 37,
   "outputs": [
    {
     "name": "stdout",
     "output_type": "stream",
     "text": [
      "After: 53845 iterations - 1.39026141 seconds\n",
      "Objective value: 0.00000000\n"
     ]
    },
    {
     "name": "stderr",
     "output_type": "stream",
     "text": [
      "/tmp/ipykernel_125986/3855411996.py:58: DeprecationWarning: Conversion of an array with ndim > 0 to a scalar is deprecated, and will error in future. Ensure you extract a single element from your array before performing this operation. (Deprecated NumPy 1.25.)\n",
      "  print('Objective value: %.8f' % (f(x)))\n"
     ]
    },
    {
     "data": {
      "text/plain": "array([1.00000056, 1.00000113])"
     },
     "execution_count": 37,
     "metadata": {},
     "output_type": "execute_result"
    }
   ],
   "source": [
    "f_optimize(rosenbrock2d,\n",
    "           g_rosenbrock2d,\n",
    "           np.array([15,\n",
    "                     10]),\n",
    "           60)"
   ],
   "metadata": {
    "collapsed": false,
    "ExecuteTime": {
     "end_time": "2023-12-08T12:36:01.958318500Z",
     "start_time": "2023-12-08T12:36:00.584230700Z"
    }
   },
   "id": "5005e6a56718015e"
  }
 ],
 "metadata": {
  "kernelspec": {
   "display_name": "Python 3",
   "language": "python",
   "name": "python3"
  },
  "language_info": {
   "codemirror_mode": {
    "name": "ipython",
    "version": 2
   },
   "file_extension": ".py",
   "mimetype": "text/x-python",
   "name": "python",
   "nbconvert_exporter": "python",
   "pygments_lexer": "ipython2",
   "version": "2.7.6"
  }
 },
 "nbformat": 4,
 "nbformat_minor": 5
}
